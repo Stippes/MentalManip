{
 "cells": [
  {
   "cell_type": "markdown",
   "id": "6a4be8f0",
   "metadata": {},
   "source": [
    "# Example Jupyter Notebook: Analyzing Bogus Data"
   ]
  },
  {
   "cell_type": "markdown",
   "id": "7ca8f465",
   "metadata": {},
   "source": [
    "## 1. Importing Libraries\n",
    "We start by importing the necessary libraries for data manipulation and visualization."
   ]
  },
  {
   "cell_type": "code",
   "execution_count": null,
   "id": "27399157",
   "metadata": {},
   "outputs": [],
   "source": [
    "import pandas as pd\n",
    "import numpy as np\n",
    "import matplotlib.pyplot as plt\n",
    "import seaborn as sns\n",
    "\n",
    "# Set visualization style\n",
    "sns.set(style='whitegrid')\n",
    "\n",
    "# Seed for reproducibility\n",
    "np.random.seed(42)"
   ]
  },
  {
   "cell_type": "markdown",
   "id": "6d901f4a",
   "metadata": {},
   "source": [
    "## 2. Data Loading\n",
    "We simulate bogus data for demonstration purposes."
   ]
  },
  {
   "cell_type": "code",
   "execution_count": null,
   "id": "ea4b5e49",
   "metadata": {},
   "outputs": [],
   "source": [
    "data = pd.DataFrame({\n",
    "    'Category': np.random.choice(['A', 'B', 'C'], size=100),\n",
    "    'Value1': np.random.normal(loc=50, scale=10, size=100),\n",
    "    'Value2': np.random.normal(loc=30, scale=5, size=100)\n",
    "})\n",
    "data.head()"
   ]
  },
  {
   "cell_type": "markdown",
   "id": "06498314",
   "metadata": {},
   "source": [
    "## 3. Data Exploration\n",
    "Checking data types and missing values to ensure data quality."
   ]
  },
  {
   "cell_type": "code",
   "execution_count": null,
   "id": "c3776dd5",
   "metadata": {},
   "outputs": [],
   "source": [
    "data.info()\n",
    "data.describe()"
   ]
  },
  {
   "cell_type": "markdown",
   "id": "1078a91e",
   "metadata": {},
   "source": [
    "## 4. Exploratory Data Analysis (EDA)\n",
    "### 4.1 Distribution Plot\n",
    "Visualizing the distribution of `Value1`."
   ]
  },
  {
   "cell_type": "code",
   "execution_count": null,
   "id": "4cc2dc7f",
   "metadata": {},
   "outputs": [],
   "source": [
    "plt.figure(figsize=(8, 5))\n",
    "sns.histplot(data['Value1'], kde=True)\n",
    "plt.title('Distribution of Value1')\n",
    "plt.xlabel('Value1')\n",
    "plt.ylabel('Frequency')\n",
    "plt.show()"
   ]
  },
  {
   "cell_type": "markdown",
   "id": "7b681b41",
   "metadata": {},
   "source": [
    "### 4.2 Boxplot by Category\n",
    "Using a boxplot to check for outliers in `Value1` across categories."
   ]
  },
  {
   "cell_type": "code",
   "execution_count": null,
   "id": "c2c65d85",
   "metadata": {},
   "outputs": [],
   "source": [
    "plt.figure(figsize=(8, 5))\n",
    "sns.boxplot(x='Category', y='Value1', data=data)\n",
    "plt.title('Value1 by Category')\n",
    "plt.xlabel('Category')\n",
    "plt.ylabel('Value1')\n",
    "plt.show()"
   ]
  },
  {
   "cell_type": "markdown",
   "id": "40394511",
   "metadata": {},
   "source": [
    "## 5. Simple Analysis\n",
    "Calculating the mean of `Value1` by category to observe variations."
   ]
  },
  {
   "cell_type": "code",
   "execution_count": null,
   "id": "6bf40eab",
   "metadata": {},
   "outputs": [],
   "source": [
    "category_means = data.groupby('Category')['Value1'].mean()\n",
    "category_means"
   ]
  },
  {
   "cell_type": "markdown",
   "id": "4c4ac5c9",
   "metadata": {},
   "source": [
    "## 6. Conclusion\n",
    "- `Value1` appears normally distributed.\n",
    "- Slight differences in category means.\n",
    "- No significant outliers detected.\n",
    "\n",
    "Further steps could include deeper analysis or predictive modeling."
   ]
  },
  {
   "cell_type": "markdown",
   "id": "15d4a3f8",
   "metadata": {},
   "source": [
    "## 7. Versioning and Reproducibility\n",
    "Listing library versions used in this notebook."
   ]
  },
  {
   "cell_type": "code",
   "execution_count": null,
   "id": "d920380e",
   "metadata": {},
   "outputs": [],
   "source": [
    "!pip freeze | grep -E 'pandas|numpy|matplotlib|seaborn'"
   ]
  }
 ],
 "metadata": {},
 "nbformat": 4,
 "nbformat_minor": 5
}
